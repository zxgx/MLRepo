{
 "cells": [
  {
   "cell_type": "code",
   "execution_count": 1,
   "metadata": {},
   "outputs": [
    {
     "name": "stderr",
     "output_type": "stream",
     "text": [
      "Using TensorFlow backend.\n"
     ]
    },
    {
     "name": "stdout",
     "output_type": "stream",
     "text": [
      "data:  (24000, 1, 48, 48)\n",
      "label:  (24000, 7)\n"
     ]
    }
   ],
   "source": [
    "%load_ext autoreload\n",
    "%autoreload 2\n",
    "\n",
    "from implemention.utils.load import *\n",
    "import keras\n",
    "\n",
    "X_train, y_train, X_val, y_val = load_train_data()\n",
    "\n",
    "num_classes = 7\n",
    "y_train = keras.utils.to_categorical(y_train, num_classes)\n",
    "y_val = keras.utils.to_categorical(y_val, num_classes)\n",
    "\n",
    "print(\"data: \", X_train.shape)\n",
    "print(\"label: \", y_train.shape)"
   ]
  },
  {
   "cell_type": "code",
   "execution_count": 2,
   "metadata": {},
   "outputs": [],
   "source": [
    "X_pre, y_pre = X_train[:30], y_train[:30]"
   ]
  },
  {
   "cell_type": "code",
   "execution_count": 12,
   "metadata": {
    "scrolled": true
   },
   "outputs": [],
   "source": [
    "from keras.models import Sequential\n",
    "from keras.layers import Dense, Activation, Flatten, BatchNormalization, Dropout\n",
    "from keras.layers import Conv2D, MaxPooling2D\n",
    "from keras import regularizers\n",
    "\n",
    "def get_model():\n",
    "    \n",
    "    model = Sequential()\n",
    "    # 1, 48, 48\n",
    "    model.add(Conv2D(32, (3, 3), padding='same', input_shape=(1, 48, 48),\n",
    "                     data_format='channels_first', kernel_regularizer=regularizers.l2(0.001)))\n",
    "    model.add(BatchNormalization(axis=1, momentum=0.99, epsilon=1e-5))\n",
    "    model.add(Activation('relu'))\n",
    "    model.add(MaxPooling2D(pool_size=(2, 2), data_format='channels_first')) #24\n",
    "    \n",
    "    # 32, 24, 24\n",
    "    model.add(Conv2D(32, (3, 3), padding='same', data_format='channels_first', kernel_regularizer=regularizers.l2(0.001)))\n",
    "    model.add(BatchNormalization(axis=1, momentum=0.99, epsilon=1e-5))\n",
    "    model.add(Activation('relu'))\n",
    "    model.add(MaxPooling2D(pool_size=(2, 2), data_format='channels_first')) #12\n",
    "    \n",
    "    # 32, 12, 12\n",
    "    model.add(Conv2D(32, (3, 3), padding='same', data_format='channels_first', kernel_regularizer=regularizers.l2(0.001)))\n",
    "    model.add(BatchNormalization(axis=1, momentum=0.99, epsilon=1e-5))\n",
    "    model.add(Activation('relu'))\n",
    "    model.add(MaxPooling2D(pool_size=(2, 2), data_format='channels_first')) #6\n",
    "    # 32, 6, 6\n",
    "    model.add(Flatten())\n",
    "    # 32 * 6 * 6\n",
    "    model.add(Dense(500))\n",
    "    model.add(BatchNormalization(axis=1, momentum=0.99, epsilon=1e-5))\n",
    "    model.add(Activation('relu'))\n",
    "    model.add(Dropout(0.5))\n",
    "\n",
    "    model.add(Dense(300))\n",
    "    model.add(BatchNormalization(axis=1, momentum=0.99, epsilon=1e-5))\n",
    "    model.add(Activation('relu'))\n",
    "    model.add(Dropout(0.5))\n",
    "\n",
    "    model.add(Dense(num_classes))\n",
    "    model.add(Activation('softmax'))\n",
    "    \n",
    "    return model"
   ]
  },
  {
   "cell_type": "code",
   "execution_count": 13,
   "metadata": {},
   "outputs": [
    {
     "name": "stdout",
     "output_type": "stream",
     "text": [
      "Epoch 1/20\n",
      "30/30 [==============================] - 7s 241ms/step - loss: 2.6129 - acc: 0.1333\n",
      "Epoch 2/20\n",
      "30/30 [==============================] - 0s 7ms/step - loss: 2.4576 - acc: 0.2000\n",
      "Epoch 3/20\n",
      "30/30 [==============================] - 0s 6ms/step - loss: 2.1687 - acc: 0.2333\n",
      "Epoch 4/20\n",
      "30/30 [==============================] - 0s 6ms/step - loss: 1.3892 - acc: 0.4667\n",
      "Epoch 5/20\n",
      "30/30 [==============================] - 0s 7ms/step - loss: 0.9435 - acc: 0.7333\n",
      "Epoch 6/20\n",
      "30/30 [==============================] - 0s 6ms/step - loss: 0.7981 - acc: 0.7667\n",
      "Epoch 7/20\n",
      "30/30 [==============================] - 0s 6ms/step - loss: 0.8649 - acc: 0.7333\n",
      "Epoch 8/20\n",
      "30/30 [==============================] - 0s 6ms/step - loss: 0.5109 - acc: 0.9000\n",
      "Epoch 9/20\n",
      "30/30 [==============================] - 0s 7ms/step - loss: 0.4852 - acc: 0.9333\n",
      "Epoch 10/20\n",
      "30/30 [==============================] - 0s 6ms/step - loss: 0.5694 - acc: 0.8667\n",
      "Epoch 11/20\n",
      "30/30 [==============================] - 0s 7ms/step - loss: 0.4121 - acc: 0.9333\n",
      "Epoch 12/20\n",
      "30/30 [==============================] - 0s 8ms/step - loss: 0.3496 - acc: 0.9333\n",
      "Epoch 13/20\n",
      "30/30 [==============================] - 0s 7ms/step - loss: 0.4045 - acc: 0.9333\n",
      "Epoch 14/20\n",
      "30/30 [==============================] - 0s 7ms/step - loss: 0.2866 - acc: 0.9667\n",
      "Epoch 15/20\n",
      "30/30 [==============================] - 0s 7ms/step - loss: 0.2232 - acc: 1.0000\n",
      "Epoch 16/20\n",
      "30/30 [==============================] - 0s 7ms/step - loss: 0.2068 - acc: 1.0000\n",
      "Epoch 17/20\n",
      "30/30 [==============================] - 0s 6ms/step - loss: 0.2061 - acc: 1.0000\n",
      "Epoch 18/20\n",
      "30/30 [==============================] - 0s 6ms/step - loss: 0.1994 - acc: 1.0000\n",
      "Epoch 19/20\n",
      "30/30 [==============================] - 0s 8ms/step - loss: 0.1334 - acc: 1.0000\n",
      "Epoch 20/20\n",
      "30/30 [==============================] - 0s 7ms/step - loss: 0.1888 - acc: 1.0000\n"
     ]
    },
    {
     "data": {
      "image/png": "[encoded data removed]",
      "text/plain": [
       "<Figure size 432x288 with 2 Axes>"
      ]
     },
     "metadata": {
      "needs_background": "light"
     },
     "output_type": "display_data"
    }
   ],
   "source": [
    "# pretrain test\n",
    "import matplotlib.pylab as plt\n",
    "\n",
    "model = get_model()\n",
    "optim = keras.optimizers.Adam(lr=0.001, beta_1=0.9, beta_2=0.999)\n",
    "model.compile(loss='categorical_crossentropy', optimizer=optim, metrics=['accuracy'])\n",
    "history = model.fit(X_pre, y_pre, batch_size=200, epochs=20, shuffle=True)\n",
    "\n",
    "# Plot training & validation accuracy values\n",
    "plt.subplot(2, 1, 1)\n",
    "plt.plot(history.history['acc'])\n",
    "#plt.plot(history.history['val_acc'])\n",
    "plt.title('Model accuracy')\n",
    "plt.ylabel('Accuracy')\n",
    "plt.xlabel('Epoch')\n",
    "plt.legend(['Train', 'Test'], loc='upper left')\n",
    "\n",
    "# Plot training & validation loss values\n",
    "plt.subplot(2, 1, 2)\n",
    "plt.plot(history.history['loss'])\n",
    "#plt.plot(history.history['val_loss'])\n",
    "plt.title('Model loss')\n",
    "plt.ylabel('Loss')\n",
    "plt.xlabel('Epoch')\n",
    "plt.legend(['Train', 'Test'], loc='upper left')\n",
    "plt.show()"
   ]
  },
  {
   "cell_type": "code",
   "execution_count": 14,
   "metadata": {},
   "outputs": [
    {
     "name": "stdout",
     "output_type": "stream",
     "text": [
      "Train on 24000 samples, validate on 4709 samples\n",
      "Epoch 1/20\n",
      "24000/24000 [==============================] - 160s 7ms/step - loss: 1.9322 - acc: 0.3187 - val_loss: 1.5752 - val_acc: 0.4154\n",
      "Epoch 2/20\n",
      "24000/24000 [==============================] - 119s 5ms/step - loss: 1.5516 - acc: 0.4300 - val_loss: 1.6512 - val_acc: 0.3710\n",
      "Epoch 3/20\n",
      "24000/24000 [==============================] - 119s 5ms/step - loss: 1.3888 - acc: 0.4847 - val_loss: 1.4606 - val_acc: 0.4578\n",
      "Epoch 4/20\n",
      "24000/24000 [==============================] - 119s 5ms/step - loss: 1.2920 - acc: 0.5299 - val_loss: 1.4109 - val_acc: 0.4767\n",
      "Epoch 5/20\n",
      "24000/24000 [==============================] - 121s 5ms/step - loss: 1.2234 - acc: 0.5599 - val_loss: 1.3831 - val_acc: 0.4750\n",
      "Epoch 6/20\n",
      "24000/24000 [==============================] - 124s 5ms/step - loss: 1.1680 - acc: 0.5785 - val_loss: 1.3144 - val_acc: 0.5169\n",
      "Epoch 7/20\n",
      "24000/24000 [==============================] - 123s 5ms/step - loss: 1.1110 - acc: 0.6024 - val_loss: 1.3921 - val_acc: 0.4825\n",
      "Epoch 8/20\n",
      "24000/24000 [==============================] - 123s 5ms/step - loss: 1.0695 - acc: 0.6173 - val_loss: 1.6124 - val_acc: 0.4290\n",
      "Epoch 9/20\n",
      "24000/24000 [==============================] - 125s 5ms/step - loss: 1.0142 - acc: 0.6406 - val_loss: 1.4470 - val_acc: 0.4901\n",
      "Epoch 10/20\n",
      "24000/24000 [==============================] - 123s 5ms/step - loss: 0.9737 - acc: 0.6539 - val_loss: 1.3987 - val_acc: 0.4922\n",
      "Epoch 11/20\n",
      "24000/24000 [==============================] - 121s 5ms/step - loss: 0.9220 - acc: 0.6784 - val_loss: 1.3368 - val_acc: 0.5332\n",
      "Epoch 12/20\n",
      "24000/24000 [==============================] - 121s 5ms/step - loss: 0.8750 - acc: 0.6967 - val_loss: 1.7554 - val_acc: 0.4207\n",
      "Epoch 13/20\n",
      "24000/24000 [==============================] - 119s 5ms/step - loss: 0.8318 - acc: 0.7146 - val_loss: 1.3997 - val_acc: 0.5209\n",
      "Epoch 14/20\n",
      "24000/24000 [==============================] - 119s 5ms/step - loss: 0.7802 - acc: 0.7337 - val_loss: 1.4140 - val_acc: 0.5337\n",
      "Epoch 15/20\n",
      "24000/24000 [==============================] - 121s 5ms/step - loss: 0.7341 - acc: 0.7526 - val_loss: 1.5316 - val_acc: 0.5279\n",
      "Epoch 16/20\n",
      "24000/24000 [==============================] - 120s 5ms/step - loss: 0.7060 - acc: 0.7647 - val_loss: 1.4906 - val_acc: 0.5271\n",
      "Epoch 17/20\n",
      "24000/24000 [==============================] - 122s 5ms/step - loss: 0.6602 - acc: 0.7812 - val_loss: 2.1098 - val_acc: 0.4339\n",
      "Epoch 18/20\n",
      "24000/24000 [==============================] - 123s 5ms/step - loss: 0.6144 - acc: 0.8010 - val_loss: 1.6216 - val_acc: 0.5317\n",
      "Epoch 19/20\n",
      "24000/24000 [==============================] - 119s 5ms/step - loss: 0.5938 - acc: 0.8069 - val_loss: 1.6192 - val_acc: 0.5235\n",
      "Epoch 20/20\n",
      "24000/24000 [==============================] - 119s 5ms/step - loss: 0.5468 - acc: 0.8287 - val_loss: 1.7474 - val_acc: 0.5001\n"
     ]
    },
    {
     "data": {
      "image/png": "[encoded data removed]",
      "text/plain": [
       "<Figure size 432x288 with 2 Axes>"
      ]
     },
     "metadata": {
      "needs_background": "light"
     },
     "output_type": "display_data"
    }
   ],
   "source": [
    "model = get_model()\n",
    "optim = keras.optimizers.Adam(lr=0.001, beta_1=0.9, beta_2=0.999)\n",
    "model.compile(loss='categorical_crossentropy', optimizer=optim, metrics=['accuracy'])\n",
    "history = model.fit(X_train, y_train, batch_size=100, validation_data=(X_val, y_val), epochs=20, shuffle=True)\n",
    "\n",
    "# Plot training & validation accuracy values\n",
    "plt.subplot(2, 1, 1)\n",
    "plt.plot(history.history['acc'])\n",
    "plt.plot(history.history['val_acc'])\n",
    "plt.title('Model accuracy')\n",
    "plt.ylabel('Accuracy')\n",
    "plt.xlabel('Epoch')\n",
    "plt.legend(['Train', 'Test'], loc='upper left')\n",
    "\n",
    "# Plot training & validation loss values\n",
    "plt.subplot(2, 1, 2)\n",
    "plt.plot(history.history['loss'])\n",
    "plt.plot(history.history['val_loss'])\n",
    "plt.title('Model loss')\n",
    "plt.ylabel('Loss')\n",
    "plt.xlabel('Epoch')\n",
    "plt.legend(['Train', 'Test'], loc='upper left')\n",
    "plt.show()"
   ]
  },
  {
   "cell_type": "code",
   "execution_count": 15,
   "metadata": {},
   "outputs": [
    {
     "name": "stdout",
     "output_type": "stream",
     "text": [
      "7178/7178 [==============================] - 24s 3ms/step\n"
     ]
    }
   ],
   "source": [
    "import pandas as pd\n",
    "\n",
    "test_set = load_test_data()\n",
    "res = model.predict(test_set, verbose=1)\n",
    "pred = np.argmax(res, axis=1)\n",
    "\n",
    "d1 = np.arange(pred.shape[0]).reshape(-1,1)\n",
    "d2 = pred.reshape(-1,1)\n",
    "d = np.hstack((d1, d2))\n",
    "df = pd.DataFrame(d, columns=['id', 'label'])\n",
    "df.to_csv(r'submission.csv', index=False)"
   ]
  },
  {
   "cell_type": "code",
   "execution_count": null,
   "metadata": {},
   "outputs": [],
   "source": [
    "\"\"\"\n",
    "[conv->batchnorm->relu->conv->batchnorm->relu->2*2maxpool]*3->[affine->batchnorm->relu->dropout]*2->affine->softmax\n",
    "Test accuracy: 0.4835421533265876\n",
    "\n",
    "Test accuracy: 0.5185814397992995\n",
    "\n",
    "\"\"\""
   ]
  }
 ],
 "metadata": {
  "kernelspec": {
   "display_name": "py368_for_ml",
   "language": "python",
   "name": "py368"
  },
  "language_info": {
   "codemirror_mode": {
    "name": "ipython",
    "version": 3
   },
   "file_extension": ".py",
   "mimetype": "text/x-python",
   "name": "python",
   "nbconvert_exporter": "python",
   "pygments_lexer": "ipython3",
   "version": "3.6.8"
  }
 },
 "nbformat": 4,
 "nbformat_minor": 2
}
